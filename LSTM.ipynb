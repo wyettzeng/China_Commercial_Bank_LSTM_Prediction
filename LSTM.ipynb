{
 "cells": [
  {
   "cell_type": "code",
   "execution_count": 1,
   "metadata": {},
   "outputs": [],
   "source": [
    "import pandas\n",
    "import numpy as np\n",
    "from sklearn.preprocessing import MinMaxScaler\n",
    "from sklearn.model_selection import train_test_split\n",
    "from keras.models import Sequential\n",
    "from keras.layers import LSTM, Dense\n",
    "import Graphing"
   ]
  },
  {
   "cell_type": "code",
   "execution_count": 2,
   "metadata": {},
   "outputs": [],
   "source": [
    "# Global Variables\n",
    "scaler = MinMaxScaler(feature_range=(0, 1))\n",
    "# we look back the past 60 days to predict the next 5 days\n",
    "look_back = 60"
   ]
  },
  {
   "cell_type": "code",
   "execution_count": 3,
   "metadata": {},
   "outputs": [
    {
     "data": {
      "text/html": [
       "<div>\n",
       "<style scoped>\n",
       "    .dataframe tbody tr th:only-of-type {\n",
       "        vertical-align: middle;\n",
       "    }\n",
       "\n",
       "    .dataframe tbody tr th {\n",
       "        vertical-align: top;\n",
       "    }\n",
       "\n",
       "    .dataframe thead th {\n",
       "        text-align: right;\n",
       "    }\n",
       "</style>\n",
       "<table border=\"1\" class=\"dataframe\">\n",
       "  <thead>\n",
       "    <tr style=\"text-align: right;\">\n",
       "      <th></th>\n",
       "      <th>BCM</th>\n",
       "      <th>CEB</th>\n",
       "      <th>BOC</th>\n",
       "      <th>CNCB</th>\n",
       "    </tr>\n",
       "  </thead>\n",
       "  <tbody>\n",
       "    <tr>\n",
       "      <th>2393</th>\n",
       "      <td>2.720413</td>\n",
       "      <td>2.017268</td>\n",
       "      <td>1.796521</td>\n",
       "      <td>2.199660</td>\n",
       "    </tr>\n",
       "    <tr>\n",
       "      <th>2392</th>\n",
       "      <td>2.715328</td>\n",
       "      <td>2.006843</td>\n",
       "      <td>1.796521</td>\n",
       "      <td>2.178408</td>\n",
       "    </tr>\n",
       "    <tr>\n",
       "      <th>2391</th>\n",
       "      <td>2.766177</td>\n",
       "      <td>1.980780</td>\n",
       "      <td>1.837585</td>\n",
       "      <td>2.215600</td>\n",
       "    </tr>\n",
       "    <tr>\n",
       "      <th>2390</th>\n",
       "      <td>2.781431</td>\n",
       "      <td>1.970355</td>\n",
       "      <td>1.837585</td>\n",
       "      <td>2.226227</td>\n",
       "    </tr>\n",
       "    <tr>\n",
       "      <th>2389</th>\n",
       "      <td>2.745838</td>\n",
       "      <td>1.965142</td>\n",
       "      <td>1.822186</td>\n",
       "      <td>2.199660</td>\n",
       "    </tr>\n",
       "    <tr>\n",
       "      <th>...</th>\n",
       "      <td>...</td>\n",
       "      <td>...</td>\n",
       "      <td>...</td>\n",
       "      <td>...</td>\n",
       "    </tr>\n",
       "    <tr>\n",
       "      <th>4</th>\n",
       "      <td>4.490000</td>\n",
       "      <td>2.260000</td>\n",
       "      <td>2.660000</td>\n",
       "      <td>3.490000</td>\n",
       "    </tr>\n",
       "    <tr>\n",
       "      <th>3</th>\n",
       "      <td>4.660000</td>\n",
       "      <td>2.320000</td>\n",
       "      <td>2.730000</td>\n",
       "      <td>3.630000</td>\n",
       "    </tr>\n",
       "    <tr>\n",
       "      <th>2</th>\n",
       "      <td>4.540000</td>\n",
       "      <td>2.310000</td>\n",
       "      <td>2.680000</td>\n",
       "      <td>3.580000</td>\n",
       "    </tr>\n",
       "    <tr>\n",
       "      <th>1</th>\n",
       "      <td>4.560000</td>\n",
       "      <td>2.290000</td>\n",
       "      <td>2.710000</td>\n",
       "      <td>3.590000</td>\n",
       "    </tr>\n",
       "    <tr>\n",
       "      <th>0</th>\n",
       "      <td>4.550000</td>\n",
       "      <td>2.260000</td>\n",
       "      <td>2.690000</td>\n",
       "      <td>3.560000</td>\n",
       "    </tr>\n",
       "  </tbody>\n",
       "</table>\n",
       "<p>2394 rows × 4 columns</p>\n",
       "</div>"
      ],
      "text/plain": [
       "           BCM       CEB       BOC      CNCB\n",
       "2393  2.720413  2.017268  1.796521  2.199660\n",
       "2392  2.715328  2.006843  1.796521  2.178408\n",
       "2391  2.766177  1.980780  1.837585  2.215600\n",
       "2390  2.781431  1.970355  1.837585  2.226227\n",
       "2389  2.745838  1.965142  1.822186  2.199660\n",
       "...        ...       ...       ...       ...\n",
       "4     4.490000  2.260000  2.660000  3.490000\n",
       "3     4.660000  2.320000  2.730000  3.630000\n",
       "2     4.540000  2.310000  2.680000  3.580000\n",
       "1     4.560000  2.290000  2.710000  3.590000\n",
       "0     4.550000  2.260000  2.690000  3.560000\n",
       "\n",
       "[2394 rows x 4 columns]"
      ]
     },
     "execution_count": 3,
     "metadata": {},
     "output_type": "execute_result"
    }
   ],
   "source": [
    "# 1. Data Preprocessing\n",
    "df1 = pandas.read_excel(\"LSTM Input data.xlsx\")\n",
    "df1 = df1.iloc[::-1]\n",
    "df = df1.drop(\"Date\", axis=1)\n",
    "df"
   ]
  },
  {
   "cell_type": "code",
   "execution_count": 4,
   "metadata": {},
   "outputs": [
    {
     "data": {
      "text/plain": [
       "array([[0.15228392, 0.3327745 , 0.16550618, 0.11944495],\n",
       "       [0.16482479, 0.35765475, 0.17199645, 0.13552421],\n",
       "       [0.1540752 , 0.34832476, 0.16550618, 0.12174217],\n",
       "       ...,\n",
       "       [0.78442748, 0.53853092, 0.70784682, 0.71619934],\n",
       "       [0.79147415, 0.5265981 , 0.72681388, 0.72052258],\n",
       "       [0.7879509 , 0.50869887, 0.71416917, 0.70755287]])"
      ]
     },
     "execution_count": 4,
     "metadata": {},
     "output_type": "execute_result"
    }
   ],
   "source": [
    "# we want number of data to be a multiple of 5\n",
    "df = df[(len(df) % 5):]\n",
    "scaled_data = scaler.fit_transform(df)\n",
    "\n",
    "scaled_data"
   ]
  },
  {
   "cell_type": "code",
   "execution_count": 5,
   "metadata": {},
   "outputs": [],
   "source": [
    "x, y = [], []\n",
    "for i in range(look_back, len(scaled_data), 5):\n",
    "    x.append(scaled_data[i-look_back:i])\n",
    "    y.append(scaled_data[i:i+5])\n",
    "x, y = np.array(x), np.array(y)"
   ]
  },
  {
   "cell_type": "code",
   "execution_count": 6,
   "metadata": {},
   "outputs": [
    {
     "data": {
      "text/plain": [
       "array([[0.76681074, 0.50869887, 0.69520212, 0.67729019],\n",
       "       [0.82670747, 0.54449734, 0.73945858, 0.73781564],\n",
       "       [0.78442748, 0.53853092, 0.70784682, 0.71619934],\n",
       "       [0.79147415, 0.5265981 , 0.72681388, 0.72052258],\n",
       "       [0.7879509 , 0.50869887, 0.71416917, 0.70755287]])"
      ]
     },
     "execution_count": 6,
     "metadata": {},
     "output_type": "execute_result"
    }
   ],
   "source": [
    "# we only test on the last 50 days of data\n",
    "train_idx = x.shape[0] - 10\n",
    "x_train = x[:train_idx]\n",
    "x_test = x[train_idx:]\n",
    "y_train = y[:train_idx]\n",
    "y_test = y[train_idx:]\n",
    "y_test[-1]"
   ]
  },
  {
   "cell_type": "code",
   "execution_count": 7,
   "metadata": {},
   "outputs": [
    {
     "data": {
      "text/plain": [
       "(456, 20)"
      ]
     },
     "execution_count": 7,
     "metadata": {},
     "output_type": "execute_result"
    }
   ],
   "source": [
    "y_train = y_train.reshape(y_train.shape[0], -1)\n",
    "y_train.shape"
   ]
  },
  {
   "cell_type": "code",
   "execution_count": 8,
   "metadata": {},
   "outputs": [],
   "source": [
    "# 2. Build LSTM Model\n",
    "model = Sequential()\n",
    "model.add(LSTM(units=50, return_sequences=True, input_shape=(look_back, 4)))\n",
    "model.add(LSTM(units=50))\n",
    "model.add(Dense(units=20))\n",
    "model.compile(optimizer='adam', loss='mean_squared_error')"
   ]
  },
  {
   "cell_type": "code",
   "execution_count": 9,
   "metadata": {},
   "outputs": [
    {
     "name": "stdout",
     "output_type": "stream",
     "text": [
      "Epoch 1/40\n",
      "15/15 [==============================] - 2s 20ms/step - loss: 0.1705\n",
      "Epoch 2/40\n",
      "15/15 [==============================] - 0s 19ms/step - loss: 0.0242\n",
      "Epoch 3/40\n",
      "15/15 [==============================] - 0s 20ms/step - loss: 0.0118\n",
      "Epoch 4/40\n",
      "15/15 [==============================] - 0s 19ms/step - loss: 0.0088\n",
      "Epoch 5/40\n",
      "15/15 [==============================] - 0s 20ms/step - loss: 0.0078\n",
      "Epoch 6/40\n",
      "15/15 [==============================] - 0s 21ms/step - loss: 0.0071\n",
      "Epoch 7/40\n",
      "15/15 [==============================] - 0s 20ms/step - loss: 0.0066\n",
      "Epoch 8/40\n",
      "15/15 [==============================] - 0s 20ms/step - loss: 0.0064\n",
      "Epoch 9/40\n",
      "15/15 [==============================] - 0s 19ms/step - loss: 0.0059\n",
      "Epoch 10/40\n",
      "15/15 [==============================] - 0s 19ms/step - loss: 0.0054\n",
      "Epoch 11/40\n",
      "15/15 [==============================] - 0s 20ms/step - loss: 0.0050\n",
      "Epoch 12/40\n",
      "15/15 [==============================] - 0s 20ms/step - loss: 0.0046\n",
      "Epoch 13/40\n",
      "15/15 [==============================] - 0s 19ms/step - loss: 0.0044\n",
      "Epoch 14/40\n",
      "15/15 [==============================] - 0s 20ms/step - loss: 0.0044\n",
      "Epoch 15/40\n",
      "15/15 [==============================] - 0s 20ms/step - loss: 0.0041\n",
      "Epoch 16/40\n",
      "15/15 [==============================] - 0s 20ms/step - loss: 0.0040\n",
      "Epoch 17/40\n",
      "15/15 [==============================] - 0s 20ms/step - loss: 0.0037\n",
      "Epoch 18/40\n",
      "15/15 [==============================] - 0s 19ms/step - loss: 0.0034\n",
      "Epoch 19/40\n",
      "15/15 [==============================] - 0s 19ms/step - loss: 0.0034\n",
      "Epoch 20/40\n",
      "15/15 [==============================] - 0s 19ms/step - loss: 0.0033\n",
      "Epoch 21/40\n",
      "15/15 [==============================] - 0s 19ms/step - loss: 0.0032\n",
      "Epoch 22/40\n",
      "15/15 [==============================] - 0s 20ms/step - loss: 0.0031\n",
      "Epoch 23/40\n",
      "15/15 [==============================] - 0s 19ms/step - loss: 0.0031\n",
      "Epoch 24/40\n",
      "15/15 [==============================] - 0s 19ms/step - loss: 0.0031\n",
      "Epoch 25/40\n",
      "15/15 [==============================] - 0s 19ms/step - loss: 0.0029\n",
      "Epoch 26/40\n",
      "15/15 [==============================] - 0s 19ms/step - loss: 0.0028\n",
      "Epoch 27/40\n",
      "15/15 [==============================] - 0s 19ms/step - loss: 0.0030\n",
      "Epoch 28/40\n",
      "15/15 [==============================] - 0s 19ms/step - loss: 0.0028\n",
      "Epoch 29/40\n",
      "15/15 [==============================] - 0s 19ms/step - loss: 0.0027\n",
      "Epoch 30/40\n",
      "15/15 [==============================] - 0s 19ms/step - loss: 0.0027\n",
      "Epoch 31/40\n",
      "15/15 [==============================] - 0s 20ms/step - loss: 0.0028\n",
      "Epoch 32/40\n",
      "15/15 [==============================] - 0s 19ms/step - loss: 0.0027\n",
      "Epoch 33/40\n",
      "15/15 [==============================] - 0s 19ms/step - loss: 0.0025\n",
      "Epoch 34/40\n",
      "15/15 [==============================] - 0s 19ms/step - loss: 0.0025\n",
      "Epoch 35/40\n",
      "15/15 [==============================] - 0s 19ms/step - loss: 0.0024\n",
      "Epoch 36/40\n",
      "15/15 [==============================] - 0s 19ms/step - loss: 0.0026\n",
      "Epoch 37/40\n",
      "15/15 [==============================] - 0s 19ms/step - loss: 0.0026\n",
      "Epoch 38/40\n",
      "15/15 [==============================] - 0s 19ms/step - loss: 0.0024\n",
      "Epoch 39/40\n",
      "15/15 [==============================] - 0s 19ms/step - loss: 0.0023\n",
      "Epoch 40/40\n",
      "15/15 [==============================] - 0s 19ms/step - loss: 0.0024\n"
     ]
    },
    {
     "data": {
      "text/plain": [
       "<keras.callbacks.History at 0x27297bcd060>"
      ]
     },
     "execution_count": 9,
     "metadata": {},
     "output_type": "execute_result"
    }
   ],
   "source": [
    "# 3. Train and Predict\n",
    "model.fit(x_train, y_train, epochs=40, batch_size=32)"
   ]
  },
  {
   "cell_type": "code",
   "execution_count": 10,
   "metadata": {},
   "outputs": [
    {
     "name": "stdout",
     "output_type": "stream",
     "text": [
      "1/1 [==============================] - 0s 476ms/step\n"
     ]
    },
    {
     "data": {
      "text/plain": [
       "array([[4.59935  , 2.2056787, 2.8659213, 3.754582 ],\n",
       "       [4.6862144, 2.20123  , 2.8477237, 3.759422 ],\n",
       "       [4.713566 , 2.2037587, 2.875563 , 3.7451472],\n",
       "       [4.698635 , 2.2133002, 2.8624387, 3.722535 ],\n",
       "       [4.5986   , 2.2119668, 2.8674042, 3.7222817],\n",
       "       [4.623282 , 2.2161684, 2.8688486, 3.7294388],\n",
       "       [4.701267 , 2.2076037, 2.8567793, 3.7323365],\n",
       "       [4.7238116, 2.206379 , 2.8896766, 3.7269313],\n",
       "       [4.7091646, 2.2140892, 2.876548 , 3.7084265],\n",
       "       [4.619745 , 2.2209578, 2.8774014, 3.7009192],\n",
       "       [4.4933295, 2.1622643, 2.810615 , 3.6485176],\n",
       "       [4.5832343, 2.1720977, 2.7977886, 3.6453204],\n",
       "       [4.612709 , 2.169151 , 2.82263  , 3.6184874],\n",
       "       [4.5811453, 2.1801236, 2.8119853, 3.59801  ],\n",
       "       [4.4847627, 2.1736844, 2.80644  , 3.6035087],\n",
       "       [4.4264793, 2.151473 , 2.7657843, 3.5951548],\n",
       "       [4.508292 , 2.1586523, 2.765878 , 3.580899 ],\n",
       "       [4.5308914, 2.1606474, 2.7857049, 3.5626109],\n",
       "       [4.5105486, 2.17094  , 2.7795703, 3.5513208],\n",
       "       [4.4354134, 2.1660635, 2.7770364, 3.5548503],\n",
       "       [4.4666247, 2.197657 , 2.7811077, 3.623179 ],\n",
       "       [4.517995 , 2.195434 , 2.7867382, 3.6036046],\n",
       "       [4.542526 , 2.1946647, 2.8041453, 3.6020315],\n",
       "       [4.5309434, 2.2094028, 2.8002534, 3.6039627],\n",
       "       [4.4696336, 2.2069   , 2.7992039, 3.6001034],\n",
       "       [4.57174  , 2.2714994, 2.8459697, 3.711355 ],\n",
       "       [4.597725 , 2.2649043, 2.8444426, 3.69191  ],\n",
       "       [4.6299706, 2.2553775, 2.8639553, 3.7038968],\n",
       "       [4.6118083, 2.2727187, 2.8604147, 3.7136054],\n",
       "       [4.5476737, 2.2741663, 2.8543816, 3.700998 ],\n",
       "       [4.504596 , 2.2466285, 2.826481 , 3.695499 ],\n",
       "       [4.5565805, 2.2563217, 2.815178 , 3.680086 ],\n",
       "       [4.5917077, 2.246095 , 2.8297818, 3.67442  ],\n",
       "       [4.5561028, 2.261064 , 2.8276944, 3.6724966],\n",
       "       [4.4800763, 2.255799 , 2.8207278, 3.6735826],\n",
       "       [4.386767 , 2.1984122, 2.7585747, 3.6089873],\n",
       "       [4.468548 , 2.221624 , 2.7494786, 3.5930617],\n",
       "       [4.49625  , 2.2146492, 2.764208 , 3.5727785],\n",
       "       [4.4520245, 2.2230437, 2.7608848, 3.5583332],\n",
       "       [4.376695 , 2.2164135, 2.752463 , 3.5749712],\n",
       "       [4.232734 , 2.143676 , 2.656591 , 3.4757257],\n",
       "       [4.332573 , 2.1736848, 2.656634 , 3.4581785],\n",
       "       [4.3526845, 2.171914 , 2.6693063, 3.4272923],\n",
       "       [4.3099823, 2.1751237, 2.6673374, 3.4073071],\n",
       "       [4.2520294, 2.1682029, 2.65932  , 3.4339857],\n",
       "       [4.274885 , 2.1984181, 2.65204  , 3.4667785],\n",
       "       [4.339349 , 2.206994 , 2.6646438, 3.4420917],\n",
       "       [4.3506103, 2.2083678, 2.680018 , 3.431584 ],\n",
       "       [4.3304605, 2.211663 , 2.6782064, 3.4298937],\n",
       "       [4.295687 , 2.2131078, 2.6736588, 3.4421024]], dtype=float32)"
      ]
     },
     "execution_count": 10,
     "metadata": {},
     "output_type": "execute_result"
    }
   ],
   "source": [
    "test_predictions = model.predict(x_test)\n",
    "test_predictions = test_predictions.reshape(-1, 4)\n",
    "test_predictions = scaler.inverse_transform(test_predictions)\n",
    "\n",
    "test_predictions"
   ]
  },
  {
   "cell_type": "code",
   "execution_count": 11,
   "metadata": {},
   "outputs": [
    {
     "data": {
      "text/plain": [
       "array([[4.82927561, 2.24000001, 2.90322256, 3.68000007],\n",
       "       [4.7647624 , 2.23000002, 2.87566042, 3.67000008],\n",
       "       [4.78319502, 2.25      , 2.88484764, 3.68000007],\n",
       "       [4.79241085, 2.26999998, 2.9307847 , 3.69000006],\n",
       "       [4.71999979, 2.25999999, 2.90322256, 3.68000007],\n",
       "       [4.55000019, 2.24000001, 2.8480978 , 3.6400001 ],\n",
       "       [4.46000004, 2.20000005, 2.77999997, 3.57999992],\n",
       "       [4.44999981, 2.18000007, 2.75999999, 3.55999994],\n",
       "       [4.42999983, 2.18000007, 2.75      , 3.55999994],\n",
       "       [4.40999985, 2.18000007, 2.74000001, 3.56999993],\n",
       "       [4.46000004, 2.18000007, 2.74000001, 3.56999993],\n",
       "       [4.48999977, 2.20000005, 2.75999999, 3.61999989],\n",
       "       [4.53999996, 2.22000003, 2.79999995, 3.67000008],\n",
       "       [4.48999977, 2.19000006, 2.75999999, 3.58999991],\n",
       "       [4.46000004, 2.20000005, 2.74000001, 3.61999989],\n",
       "       [4.48999977, 2.21000004, 2.75      , 3.61999989],\n",
       "       [4.53999996, 2.23000002, 2.77999997, 3.6500001 ],\n",
       "       [4.44999981, 2.20000005, 2.73000002, 3.6099999 ],\n",
       "       [4.6500001 , 2.26999998, 2.81999993, 3.73000002],\n",
       "       [4.57999992, 2.25999999, 2.78999996, 3.69000006],\n",
       "       [4.61999989, 2.28999996, 2.82999992, 3.73000002],\n",
       "       [4.67000008, 2.29999995, 2.8599999 , 3.74000001],\n",
       "       [4.69999981, 2.31999993, 2.8900001 , 3.75999999],\n",
       "       [4.67999983, 2.29999995, 2.86999989, 3.71000004],\n",
       "       [4.57000017, 2.26999998, 2.80999994, 3.6400001 ],\n",
       "       [4.51999998, 2.26999998, 2.80999994, 3.6500001 ],\n",
       "       [4.53999996, 2.26999998, 2.77999997, 3.67000008],\n",
       "       [4.53999996, 2.25999999, 2.78999996, 3.66000009],\n",
       "       [4.51000023, 2.26999998, 2.76999998, 3.61999989],\n",
       "       [4.51999998, 2.28999996, 2.78999996, 3.6400001 ],\n",
       "       [4.55999994, 2.28999996, 2.78999996, 3.63000011],\n",
       "       [4.53999996, 2.26999998, 2.75999999, 3.55999994],\n",
       "       [4.42999983, 2.24000001, 2.71000004, 3.49000001],\n",
       "       [4.42000008, 2.25999999, 2.70000005, 3.5       ],\n",
       "       [4.32999992, 2.24000001, 2.66000009, 3.45000005],\n",
       "       [4.3499999 , 2.23000002, 2.6500001 , 3.45000005],\n",
       "       [4.32999992, 2.22000003, 2.6400001 , 3.47000003],\n",
       "       [4.26000023, 2.18000007, 2.5999999 , 3.3900001 ],\n",
       "       [4.28000021, 2.20000005, 2.6099999 , 3.44000006],\n",
       "       [4.28999996, 2.22000003, 2.61999989, 3.43000007],\n",
       "       [4.32000017, 2.23000002, 2.63000011, 3.45000005],\n",
       "       [4.36999989, 2.24000001, 2.6400001 , 3.48000002],\n",
       "       [4.36999989, 2.25999999, 2.66000009, 3.50999999],\n",
       "       [4.46999979, 2.28999996, 2.71000004, 3.56999993],\n",
       "       [4.46000004, 2.26999998, 2.70000005, 3.51999998],\n",
       "       [4.48999977, 2.25999999, 2.66000009, 3.49000001],\n",
       "       [4.65999985, 2.31999993, 2.73000002, 3.63000011],\n",
       "       [4.53999996, 2.30999994, 2.68000007, 3.57999992],\n",
       "       [4.55999994, 2.28999996, 2.71000004, 3.58999991],\n",
       "       [4.55000019, 2.25999999, 2.69000006, 3.55999994]])"
      ]
     },
     "execution_count": 11,
     "metadata": {},
     "output_type": "execute_result"
    }
   ],
   "source": [
    "test_answer = scaler.inverse_transform(y_test.reshape(-1, 4))\n",
    "test_answer"
   ]
  },
  {
   "cell_type": "code",
   "execution_count": 21,
   "metadata": {},
   "outputs": [
    {
     "name": "stdout",
     "output_type": "stream",
     "text": [
      "Mean square error: 0.08421306490898134\n"
     ]
    }
   ],
   "source": [
    "#MSE\n",
    "diff = test_answer - test_predictions\n",
    "diff = np.absolute(diff)\n",
    "mse = np.sum(diff) / diff.shape[0] / diff.shape[1]\n",
    "print(f\"Mean square error: {mse}\")"
   ]
  },
  {
   "cell_type": "code",
   "execution_count": 12,
   "metadata": {},
   "outputs": [],
   "source": [
    "df2 = df1.set_index('Date', drop=True)"
   ]
  },
  {
   "cell_type": "code",
   "execution_count": 13,
   "metadata": {},
   "outputs": [],
   "source": [
    "def graphResult(data:np.ndarray, df2:pandas.DataFrame, identifier:str = \"Prediction vs actual\"):\n",
    "    for ct, i in enumerate(df2.columns.values):\n",
    "        dff = pandas.DataFrame(df2[i])\n",
    "        dff['Predicted'] = data[:,ct].reshape(-1)\n",
    "        fig = Graphing.lineGraphWithMultipleLines(dff, f\"{identifier} - {i}\", \"Time\", \"Price\")\n",
    "        Graphing.mySaveFig(fig, f\"{identifier} - {i}\")"
   ]
  },
  {
   "cell_type": "code",
   "execution_count": 14,
   "metadata": {},
   "outputs": [
    {
     "ename": "TypeError",
     "evalue": "Cannot perform 'xor' with a dtyped [float64] array and scalar of type [bool]",
     "output_type": "error",
     "traceback": [
      "\u001b[1;31m---------------------------------------------------------------------------\u001b[0m",
      "\u001b[1;31mTypeError\u001b[0m                                 Traceback (most recent call last)",
      "File \u001b[1;32mc:\\ProgramData\\anaconda3\\lib\\site-packages\\pandas\\core\\ops\\array_ops.py:305\u001b[0m, in \u001b[0;36mna_logical_op\u001b[1;34m(x, y, op)\u001b[0m\n\u001b[0;32m    296\u001b[0m \u001b[39mtry\u001b[39;00m:\n\u001b[0;32m    297\u001b[0m     \u001b[39m# For exposition, write:\u001b[39;00m\n\u001b[0;32m    298\u001b[0m     \u001b[39m#  yarr = isinstance(y, np.ndarray)\u001b[39;00m\n\u001b[1;32m   (...)\u001b[0m\n\u001b[0;32m    303\u001b[0m     \u001b[39m# Then Cases where this goes through without raising include:\u001b[39;00m\n\u001b[0;32m    304\u001b[0m     \u001b[39m#  (xint or xbool) and (yint or bool)\u001b[39;00m\n\u001b[1;32m--> 305\u001b[0m     result \u001b[39m=\u001b[39m op(x, y)\n\u001b[0;32m    306\u001b[0m \u001b[39mexcept\u001b[39;00m \u001b[39mTypeError\u001b[39;00m:\n",
      "\u001b[1;31mTypeError\u001b[0m: ufunc 'bitwise_xor' not supported for the input types, and the inputs could not be safely coerced to any supported types according to the casting rule ''safe''",
      "\nDuring handling of the above exception, another exception occurred:\n",
      "\u001b[1;31mValueError\u001b[0m                                Traceback (most recent call last)",
      "File \u001b[1;32mc:\\ProgramData\\anaconda3\\lib\\site-packages\\pandas\\core\\ops\\array_ops.py:319\u001b[0m, in \u001b[0;36mna_logical_op\u001b[1;34m(x, y, op)\u001b[0m\n\u001b[0;32m    318\u001b[0m \u001b[39mtry\u001b[39;00m:\n\u001b[1;32m--> 319\u001b[0m     result \u001b[39m=\u001b[39m libops\u001b[39m.\u001b[39;49mscalar_binop(x, y, op)\n\u001b[0;32m    320\u001b[0m \u001b[39mexcept\u001b[39;00m (\n\u001b[0;32m    321\u001b[0m     \u001b[39mTypeError\u001b[39;00m,\n\u001b[0;32m    322\u001b[0m     \u001b[39mValueError\u001b[39;00m,\n\u001b[1;32m   (...)\u001b[0m\n\u001b[0;32m    325\u001b[0m     \u001b[39mNotImplementedError\u001b[39;00m,\n\u001b[0;32m    326\u001b[0m ) \u001b[39mas\u001b[39;00m err:\n",
      "File \u001b[1;32mc:\\ProgramData\\anaconda3\\lib\\site-packages\\pandas\\_libs\\ops.pyx:180\u001b[0m, in \u001b[0;36mpandas._libs.ops.scalar_binop\u001b[1;34m()\u001b[0m\n",
      "\u001b[1;31mValueError\u001b[0m: Buffer dtype mismatch, expected 'Python object' but got 'double'",
      "\nThe above exception was the direct cause of the following exception:\n",
      "\u001b[1;31mTypeError\u001b[0m                                 Traceback (most recent call last)",
      "\u001b[1;32mc:\\Users\\Wyett\\Desktop\\LSTM\\LSTM.ipynb Cell 14\u001b[0m line \u001b[0;36m1\n\u001b[1;32m----> <a href='vscode-notebook-cell:/c%3A/Users/Wyett/Desktop/LSTM/LSTM.ipynb#X16sZmlsZQ%3D%3D?line=0'>1</a>\u001b[0m graphResult(test_predictions, df2[\u001b[39m-\u001b[39;49m\u001b[39mlen\u001b[39;49m(test_answer):], \u001b[39m\"\u001b[39;49m\u001b[39mLast 10 periods prediction with correct input\u001b[39;49m\u001b[39m\"\u001b[39;49m)\n",
      "\u001b[1;32mc:\\Users\\Wyett\\Desktop\\LSTM\\LSTM.ipynb Cell 14\u001b[0m line \u001b[0;36m7\n\u001b[0;32m      <a href='vscode-notebook-cell:/c%3A/Users/Wyett/Desktop/LSTM/LSTM.ipynb#X16sZmlsZQ%3D%3D?line=4'>5</a>\u001b[0m fig \u001b[39m=\u001b[39m Graphing\u001b[39m.\u001b[39mlineGraphWithMultipleLines(dff, \u001b[39mf\u001b[39m\u001b[39m\"\u001b[39m\u001b[39m{\u001b[39;00midentifier\u001b[39m}\u001b[39;00m\u001b[39m - \u001b[39m\u001b[39m{\u001b[39;00mi\u001b[39m}\u001b[39;00m\u001b[39m\"\u001b[39m, \u001b[39m\"\u001b[39m\u001b[39mTime\u001b[39m\u001b[39m\"\u001b[39m, \u001b[39m\"\u001b[39m\u001b[39mPrice\u001b[39m\u001b[39m\"\u001b[39m)\n\u001b[0;32m      <a href='vscode-notebook-cell:/c%3A/Users/Wyett/Desktop/LSTM/LSTM.ipynb#X16sZmlsZQ%3D%3D?line=5'>6</a>\u001b[0m Graphing\u001b[39m.\u001b[39mmySaveFig(fig, \u001b[39mf\u001b[39m\u001b[39m\"\u001b[39m\u001b[39m{\u001b[39;00midentifier\u001b[39m}\u001b[39;00m\u001b[39m - \u001b[39m\u001b[39m{\u001b[39;00mi\u001b[39m}\u001b[39;00m\u001b[39m\"\u001b[39m)\n\u001b[1;32m----> <a href='vscode-notebook-cell:/c%3A/Users/Wyett/Desktop/LSTM/LSTM.ipynb#X16sZmlsZQ%3D%3D?line=6'>7</a>\u001b[0m dff[\u001b[39m\"\u001b[39m\u001b[39mDifference\u001b[39m\u001b[39m\"\u001b[39m] \u001b[39m=\u001b[39m (dff[i] \u001b[39m-\u001b[39;49m dff[\u001b[39m'\u001b[39;49m\u001b[39mPredicted\u001b[39;49m\u001b[39m'\u001b[39;49m])\u001b[39m^\u001b[39;49m\u001b[39m2\u001b[39;49m\n\u001b[0;32m      <a href='vscode-notebook-cell:/c%3A/Users/Wyett/Desktop/LSTM/LSTM.ipynb#X16sZmlsZQ%3D%3D?line=7'>8</a>\u001b[0m \u001b[39mprint\u001b[39m(dff)\n",
      "File \u001b[1;32mc:\\ProgramData\\anaconda3\\lib\\site-packages\\pandas\\core\\ops\\common.py:72\u001b[0m, in \u001b[0;36m_unpack_zerodim_and_defer.<locals>.new_method\u001b[1;34m(self, other)\u001b[0m\n\u001b[0;32m     68\u001b[0m             \u001b[39mreturn\u001b[39;00m \u001b[39mNotImplemented\u001b[39m\n\u001b[0;32m     70\u001b[0m other \u001b[39m=\u001b[39m item_from_zerodim(other)\n\u001b[1;32m---> 72\u001b[0m \u001b[39mreturn\u001b[39;00m method(\u001b[39mself\u001b[39;49m, other)\n",
      "File \u001b[1;32mc:\\ProgramData\\anaconda3\\lib\\site-packages\\pandas\\core\\arraylike.py:88\u001b[0m, in \u001b[0;36mOpsMixin.__xor__\u001b[1;34m(self, other)\u001b[0m\n\u001b[0;32m     86\u001b[0m \u001b[39m@unpack_zerodim_and_defer\u001b[39m(\u001b[39m\"\u001b[39m\u001b[39m__xor__\u001b[39m\u001b[39m\"\u001b[39m)\n\u001b[0;32m     87\u001b[0m \u001b[39mdef\u001b[39;00m \u001b[39m__xor__\u001b[39m(\u001b[39mself\u001b[39m, other):\n\u001b[1;32m---> 88\u001b[0m     \u001b[39mreturn\u001b[39;00m \u001b[39mself\u001b[39;49m\u001b[39m.\u001b[39;49m_logical_method(other, operator\u001b[39m.\u001b[39;49mxor)\n",
      "File \u001b[1;32mc:\\ProgramData\\anaconda3\\lib\\site-packages\\pandas\\core\\series.py:6254\u001b[0m, in \u001b[0;36mSeries._logical_method\u001b[1;34m(self, other, op)\u001b[0m\n\u001b[0;32m   6251\u001b[0m lvalues \u001b[39m=\u001b[39m \u001b[39mself\u001b[39m\u001b[39m.\u001b[39m_values\n\u001b[0;32m   6252\u001b[0m rvalues \u001b[39m=\u001b[39m extract_array(other, extract_numpy\u001b[39m=\u001b[39m\u001b[39mTrue\u001b[39;00m, extract_range\u001b[39m=\u001b[39m\u001b[39mTrue\u001b[39;00m)\n\u001b[1;32m-> 6254\u001b[0m res_values \u001b[39m=\u001b[39m ops\u001b[39m.\u001b[39;49mlogical_op(lvalues, rvalues, op)\n\u001b[0;32m   6255\u001b[0m \u001b[39mreturn\u001b[39;00m \u001b[39mself\u001b[39m\u001b[39m.\u001b[39m_construct_result(res_values, name\u001b[39m=\u001b[39mres_name)\n",
      "File \u001b[1;32mc:\\ProgramData\\anaconda3\\lib\\site-packages\\pandas\\core\\ops\\array_ops.py:395\u001b[0m, in \u001b[0;36mlogical_op\u001b[1;34m(left, right, op)\u001b[0m\n\u001b[0;32m    391\u001b[0m \u001b[39m# For int vs int `^`, `|`, `&` are bitwise operators and return\u001b[39;00m\n\u001b[0;32m    392\u001b[0m \u001b[39m#   integer dtypes.  Otherwise these are boolean ops\u001b[39;00m\n\u001b[0;32m    393\u001b[0m filler \u001b[39m=\u001b[39m fill_int \u001b[39mif\u001b[39;00m is_self_int_dtype \u001b[39mand\u001b[39;00m is_other_int_dtype \u001b[39melse\u001b[39;00m fill_bool\n\u001b[1;32m--> 395\u001b[0m res_values \u001b[39m=\u001b[39m na_logical_op(lvalues, rvalues, op)\n\u001b[0;32m    396\u001b[0m \u001b[39m# error: Cannot call function of unknown type\u001b[39;00m\n\u001b[0;32m    397\u001b[0m res_values \u001b[39m=\u001b[39m filler(res_values)  \u001b[39m# type: ignore[operator]\u001b[39;00m\n",
      "File \u001b[1;32mc:\\ProgramData\\anaconda3\\lib\\site-packages\\pandas\\core\\ops\\array_ops.py:328\u001b[0m, in \u001b[0;36mna_logical_op\u001b[1;34m(x, y, op)\u001b[0m\n\u001b[0;32m    320\u001b[0m         \u001b[39mexcept\u001b[39;00m (\n\u001b[0;32m    321\u001b[0m             \u001b[39mTypeError\u001b[39;00m,\n\u001b[0;32m    322\u001b[0m             \u001b[39mValueError\u001b[39;00m,\n\u001b[1;32m   (...)\u001b[0m\n\u001b[0;32m    325\u001b[0m             \u001b[39mNotImplementedError\u001b[39;00m,\n\u001b[0;32m    326\u001b[0m         ) \u001b[39mas\u001b[39;00m err:\n\u001b[0;32m    327\u001b[0m             typ \u001b[39m=\u001b[39m \u001b[39mtype\u001b[39m(y)\u001b[39m.\u001b[39m\u001b[39m__name__\u001b[39m\n\u001b[1;32m--> 328\u001b[0m             \u001b[39mraise\u001b[39;00m \u001b[39mTypeError\u001b[39;00m(\n\u001b[0;32m    329\u001b[0m                 \u001b[39mf\u001b[39m\u001b[39m\"\u001b[39m\u001b[39mCannot perform \u001b[39m\u001b[39m'\u001b[39m\u001b[39m{\u001b[39;00mop\u001b[39m.\u001b[39m\u001b[39m__name__\u001b[39m\u001b[39m}\u001b[39;00m\u001b[39m'\u001b[39m\u001b[39m with a dtyped [\u001b[39m\u001b[39m{\u001b[39;00mx\u001b[39m.\u001b[39mdtype\u001b[39m}\u001b[39;00m\u001b[39m] array \u001b[39m\u001b[39m\"\u001b[39m\n\u001b[0;32m    330\u001b[0m                 \u001b[39mf\u001b[39m\u001b[39m\"\u001b[39m\u001b[39mand scalar of type [\u001b[39m\u001b[39m{\u001b[39;00mtyp\u001b[39m}\u001b[39;00m\u001b[39m]\u001b[39m\u001b[39m\"\u001b[39m\n\u001b[0;32m    331\u001b[0m             ) \u001b[39mfrom\u001b[39;00m \u001b[39merr\u001b[39;00m\n\u001b[0;32m    333\u001b[0m \u001b[39mreturn\u001b[39;00m result\u001b[39m.\u001b[39mreshape(x\u001b[39m.\u001b[39mshape)\n",
      "\u001b[1;31mTypeError\u001b[0m: Cannot perform 'xor' with a dtyped [float64] array and scalar of type [bool]"
     ]
    },
    {
     "data": {
      "image/png": "[encoded data removed]",
      "text/plain": [
       "<Figure size 640x480 with 1 Axes>"
      ]
     },
     "metadata": {},
     "output_type": "display_data"
    }
   ],
   "source": [
    "graphResult(test_predictions, df2[-len(test_answer):], \"Last 10 periods prediction with correct input\")"
   ]
  },
  {
   "cell_type": "code",
   "execution_count": null,
   "metadata": {},
   "outputs": [],
   "source": [
    "def predictMultiplePeriods(data:np.ndarray, numOfPrds:int):\n",
    "    output = []\n",
    "    for i in range(numOfPrds):\n",
    "        result = model.predict(data.reshape(1, data.shape[0], -1))\n",
    "        output.append(result)\n",
    "        result = result.reshape(-1,4)\n",
    "        # print(f\"data shape 1: {data.shape}\")\n",
    "        # print(data)\n",
    "        data = data[5:]\n",
    "        # print(f\"data shape 2: {data.shape}\")\n",
    "        # print(data)\n",
    "        data = np.append(data, result)\n",
    "        # print(f\"data shape 3: {data.shape}\")\n",
    "        # print(data)\n",
    "        data = data.reshape(-1, 4)\n",
    "        print(f\"pass {i + 1} complete\")\n",
    "    output = np.array(output)\n",
    "    return output.reshape(-1, 4)"
   ]
  },
  {
   "cell_type": "code",
   "execution_count": null,
   "metadata": {},
   "outputs": [],
   "source": [
    "test_predictions = predictMultiplePeriods(x_test[-4], 3)\n",
    "test_predictions = scaler.inverse_transform(test_predictions)\n",
    "test_predictions"
   ]
  },
  {
   "cell_type": "code",
   "execution_count": null,
   "metadata": {},
   "outputs": [],
   "source": [
    "graphResult(test_predictions, df2[-15:], \"Last 15 days prediction, pure prediction without real input\")\n"
   ]
  }
 ],
 "metadata": {
  "kernelspec": {
   "display_name": "base",
   "language": "python",
   "name": "python3"
  },
  "language_info": {
   "codemirror_mode": {
    "name": "ipython",
    "version": 3
   },
   "file_extension": ".py",
   "mimetype": "text/x-python",
   "name": "python",
   "nbconvert_exporter": "python",
   "pygments_lexer": "ipython3",
   "version": "3.10.9"
  },
  "orig_nbformat": 4
 },
 "nbformat": 4,
 "nbformat_minor": 2
}
